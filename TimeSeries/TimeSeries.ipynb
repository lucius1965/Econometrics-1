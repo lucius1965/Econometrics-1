{
 "cells": [
  {
   "cell_type": "markdown",
   "metadata": {},
   "source": [
    "# MOOC TestExer6 TimeSeries\n",
    "This test exercise uses data that are available in the data file TestExer6. The question of interest is to model monthly inflation in the Euro area and to investigate whether inflation in the United States of America has predictive power for inflation in the Euro area. Monthly data on the consumer price index (CPI) for the Euro area and the USA are available from January 2000 until December 2011. The data for January 2000 until December 2010 are used for specification and estimation of models, and the data for 2011 are left out for forecast evaluation purposes."
   ]
  },
  {
   "cell_type": "code",
   "execution_count": 1,
   "metadata": {
    "scrolled": true
   },
   "outputs": [
    {
     "data": {
      "text/html": [
       "<div>\n",
       "<style scoped>\n",
       "    .dataframe tbody tr th:only-of-type {\n",
       "        vertical-align: middle;\n",
       "    }\n",
       "\n",
       "    .dataframe tbody tr th {\n",
       "        vertical-align: top;\n",
       "    }\n",
       "\n",
       "    .dataframe thead th {\n",
       "        text-align: right;\n",
       "    }\n",
       "</style>\n",
       "<table border=\"1\" class=\"dataframe\">\n",
       "  <thead>\n",
       "    <tr style=\"text-align: right;\">\n",
       "      <th></th>\n",
       "      <th>YYYY_MM</th>\n",
       "      <th>TREND</th>\n",
       "      <th>CPI_EUR</th>\n",
       "      <th>CPI_USA</th>\n",
       "      <th>LOGPEUR</th>\n",
       "      <th>LOGPUSA</th>\n",
       "      <th>DPEUR</th>\n",
       "      <th>DPUSA</th>\n",
       "    </tr>\n",
       "  </thead>\n",
       "  <tbody>\n",
       "    <tr>\n",
       "      <th>0</th>\n",
       "      <td>2000M01</td>\n",
       "      <td>1</td>\n",
       "      <td>105.1</td>\n",
       "      <td>107.6</td>\n",
       "      <td>4.654912</td>\n",
       "      <td>4.678421</td>\n",
       "      <td>NaN</td>\n",
       "      <td>NaN</td>\n",
       "    </tr>\n",
       "    <tr>\n",
       "      <th>1</th>\n",
       "      <td>2000M02</td>\n",
       "      <td>2</td>\n",
       "      <td>105.4</td>\n",
       "      <td>108.3</td>\n",
       "      <td>4.657763</td>\n",
       "      <td>4.684905</td>\n",
       "      <td>0.002850</td>\n",
       "      <td>0.006485</td>\n",
       "    </tr>\n",
       "    <tr>\n",
       "      <th>2</th>\n",
       "      <td>2000M03</td>\n",
       "      <td>3</td>\n",
       "      <td>105.8</td>\n",
       "      <td>109.1</td>\n",
       "      <td>4.661551</td>\n",
       "      <td>4.692265</td>\n",
       "      <td>0.003788</td>\n",
       "      <td>0.007360</td>\n",
       "    </tr>\n",
       "    <tr>\n",
       "      <th>3</th>\n",
       "      <td>2000M04</td>\n",
       "      <td>4</td>\n",
       "      <td>105.9</td>\n",
       "      <td>109.2</td>\n",
       "      <td>4.662495</td>\n",
       "      <td>4.693181</td>\n",
       "      <td>0.000945</td>\n",
       "      <td>0.000916</td>\n",
       "    </tr>\n",
       "    <tr>\n",
       "      <th>4</th>\n",
       "      <td>2000M05</td>\n",
       "      <td>5</td>\n",
       "      <td>106.0</td>\n",
       "      <td>109.3</td>\n",
       "      <td>4.663439</td>\n",
       "      <td>4.694096</td>\n",
       "      <td>0.000944</td>\n",
       "      <td>0.000915</td>\n",
       "    </tr>\n",
       "  </tbody>\n",
       "</table>\n",
       "</div>"
      ],
      "text/plain": [
       "   YYYY_MM  TREND  CPI_EUR  CPI_USA   LOGPEUR   LOGPUSA     DPEUR     DPUSA\n",
       "0  2000M01      1    105.1    107.6  4.654912  4.678421       NaN       NaN\n",
       "1  2000M02      2    105.4    108.3  4.657763  4.684905  0.002850  0.006485\n",
       "2  2000M03      3    105.8    109.1  4.661551  4.692265  0.003788  0.007360\n",
       "3  2000M04      4    105.9    109.2  4.662495  4.693181  0.000945  0.000916\n",
       "4  2000M05      5    106.0    109.3  4.663439  4.694096  0.000944  0.000915"
      ]
     },
     "execution_count": 1,
     "metadata": {},
     "output_type": "execute_result"
    }
   ],
   "source": [
    "import pandas as pd\n",
    "raw_data = pd.read_csv('TestExer6_CPI.txt', sep='\\t', index_col=False)\n",
    "raw_data.head()"
   ]
  },
  {
   "cell_type": "markdown",
   "metadata": {},
   "source": [
    "**(a)** Make time series plots of the $CPI$ of the Euro area and the USA, and also of their logarithm $log(CPI)$ and of the two monthly inflation series $DP = \\Delta log(CPI)$. What conclusions do you draw from these plots?"
   ]
  },
  {
   "cell_type": "code",
   "execution_count": 2,
   "metadata": {},
   "outputs": [],
   "source": [
    "raw_data['YEAR'] = raw_data.YYYY_MM.str[0:4].astype(int)\n",
    "train = raw_data.YEAR < 2011\n",
    "test = ~train\n",
    "# select training data set and test data set"
   ]
  },
  {
   "cell_type": "code",
   "execution_count": 3,
   "metadata": {},
   "outputs": [
    {
     "data": {
      "image/png": "[encoded data removed]",
      "text/plain": [
       "<Figure size 432x288 with 1 Axes>"
      ]
     },
     "metadata": {},
     "output_type": "display_data"
    }
   ],
   "source": [
    "import matplotlib.pyplot as plt\n",
    "%matplotlib inline\n",
    "\n",
    "plt.figure()\n",
    "raw_data[train].CPI_EUR.plot()\n",
    "raw_data[train].CPI_USA.plot()\n",
    "plt.legend()\n",
    "plt.show()"
   ]
  },
  {
   "cell_type": "code",
   "execution_count": 4,
   "metadata": {},
   "outputs": [
    {
     "data": {
      "image/png": "[encoded data removed]",
      "text/plain": [
       "<Figure size 432x288 with 1 Axes>"
      ]
     },
     "metadata": {},
     "output_type": "display_data"
    }
   ],
   "source": [
    "plt.figure()\n",
    "raw_data[train].LOGPEUR.plot()\n",
    "raw_data[train].LOGPUSA.plot()\n",
    "plt.legend()\n",
    "plt.show()"
   ]
  },
  {
   "cell_type": "code",
   "execution_count": 5,
   "metadata": {},
   "outputs": [
    {
     "data": {
      "image/png": "[encoded data removed]",
      "text/plain": [
       "<Figure size 432x288 with 1 Axes>"
      ]
     },
     "metadata": {},
     "output_type": "display_data"
    }
   ],
   "source": [
    "plt.figure()\n",
    "raw_data[train].DPEUR.plot()\n",
    "raw_data[train].DPUSA.plot()\n",
    "plt.legend()\n",
    "plt.show()"
   ]
  },
  {
   "cell_type": "markdown",
   "metadata": {},
   "source": [
    "**Conclusion:** DPEUR and DPUSA look stationary. However, the variance becomes bigger at last several data."
   ]
  },
  {
   "cell_type": "markdown",
   "metadata": {},
   "source": [
    "**(b)** Perform the Augmented Dickey-Fuller (ADF) test for the two $log(CPI)$ series. In the ADF test equation, include a constant ($\\alpha$), a deterministic trend term ($\\beta_t$), three lags of $DP = \\Delta log(CPI)$ and, of course, the variable of interest $log(CPI_{t-1})$. Report the coefficient of $log(CPI_{t-1})$ and its standard error and t-value, and draw your conclusion."
   ]
  },
  {
   "cell_type": "code",
   "execution_count": 6,
   "metadata": {},
   "outputs": [
    {
     "data": {
      "text/html": [
       "<div>\n",
       "<style scoped>\n",
       "    .dataframe tbody tr th:only-of-type {\n",
       "        vertical-align: middle;\n",
       "    }\n",
       "\n",
       "    .dataframe tbody tr th {\n",
       "        vertical-align: top;\n",
       "    }\n",
       "\n",
       "    .dataframe thead th {\n",
       "        text-align: right;\n",
       "    }\n",
       "</style>\n",
       "<table border=\"1\" class=\"dataframe\">\n",
       "  <thead>\n",
       "    <tr style=\"text-align: right;\">\n",
       "      <th></th>\n",
       "      <th>coef</th>\n",
       "      <th>value</th>\n",
       "      <th>SE</th>\n",
       "      <th>t-value</th>\n",
       "      <th>p-value</th>\n",
       "    </tr>\n",
       "  </thead>\n",
       "  <tbody>\n",
       "    <tr>\n",
       "      <th>Intercept</th>\n",
       "      <td>$\\alpha$</td>\n",
       "      <td>0.558907</td>\n",
       "      <td>0.226658</td>\n",
       "      <td>2.465857</td>\n",
       "      <td>0.015058</td>\n",
       "    </tr>\n",
       "    <tr>\n",
       "      <th>TREND</th>\n",
       "      <td>${\\beta}$</td>\n",
       "      <td>0.000205</td>\n",
       "      <td>0.000086</td>\n",
       "      <td>2.379713</td>\n",
       "      <td>0.018876</td>\n",
       "    </tr>\n",
       "    <tr>\n",
       "      <th>DPEUR.shift(1)</th>\n",
       "      <td>$\\gamma_1$</td>\n",
       "      <td>0.134337</td>\n",
       "      <td>0.091709</td>\n",
       "      <td>1.464819</td>\n",
       "      <td>0.145543</td>\n",
       "    </tr>\n",
       "    <tr>\n",
       "      <th>DPEUR.shift(2)</th>\n",
       "      <td>$\\gamma_2$</td>\n",
       "      <td>-0.041029</td>\n",
       "      <td>0.090755</td>\n",
       "      <td>-0.452087</td>\n",
       "      <td>0.652009</td>\n",
       "    </tr>\n",
       "    <tr>\n",
       "      <th>DPEUR.shift(3)</th>\n",
       "      <td>$\\gamma_3$</td>\n",
       "      <td>-0.127035</td>\n",
       "      <td>0.091257</td>\n",
       "      <td>-1.392061</td>\n",
       "      <td>0.166436</td>\n",
       "    </tr>\n",
       "    <tr>\n",
       "      <th>LOGPEUR.shift(1)</th>\n",
       "      <td>$\\rho$</td>\n",
       "      <td>-0.119527</td>\n",
       "      <td>0.048692</td>\n",
       "      <td>-2.454768</td>\n",
       "      <td>0.015508</td>\n",
       "    </tr>\n",
       "  </tbody>\n",
       "</table>\n",
       "</div>"
      ],
      "text/plain": [
       "                        coef     value        SE   t-value   p-value\n",
       "Intercept           $\\alpha$  0.558907  0.226658  2.465857  0.015058\n",
       "TREND              ${\\beta}$  0.000205  0.000086  2.379713  0.018876\n",
       "DPEUR.shift(1)    $\\gamma_1$  0.134337  0.091709  1.464819  0.145543\n",
       "DPEUR.shift(2)    $\\gamma_2$ -0.041029  0.090755 -0.452087  0.652009\n",
       "DPEUR.shift(3)    $\\gamma_3$ -0.127035  0.091257 -1.392061  0.166436\n",
       "LOGPEUR.shift(1)      $\\rho$ -0.119527  0.048692 -2.454768  0.015508"
      ]
     },
     "execution_count": 6,
     "metadata": {},
     "output_type": "execute_result"
    }
   ],
   "source": [
    "import statsmodels.formula.api as smf\n",
    "\n",
    "def summary(model, names):\n",
    "    return pd.DataFrame({'coef': names, 'value': model.params, 'SE': model.bse, 't-value': model.tvalues, 'p-value': model.pvalues}\n",
    "                        , columns = ['coef', 'value', 'SE', 't-value', 'p-value'])\n",
    "ADF_EU = smf.ols('DPEUR~TREND+DPEUR.shift(1)+DPEUR.shift(2)+DPEUR.shift(3)+LOGPEUR.shift(1)', data=raw_data[train]).fit()\n",
    "summary(ADF_EU, names=[r'$\\alpha$', r'${\\beta}$', r'$\\gamma_1$', r'$\\gamma_2$', r'$\\gamma_3$', r'$\\rho$'])"
   ]
  },
  {
   "cell_type": "markdown",
   "metadata": {},
   "source": [
    "The last row above shows that the coefficient of $\\log({CPIEUR}_{t-1})$, its standard error and $t$-value.\n",
    "\n",
    "Critical value of the ADF test with trend included is -3.5, which is less than $t_\\rho = -2.45$, so we canntot reject the $H_0$ that $\\log(CPIEUR)$ is non-stationary."
   ]
  },
  {
   "cell_type": "code",
   "execution_count": 7,
   "metadata": {},
   "outputs": [
    {
     "data": {
      "text/html": [
       "<div>\n",
       "<style scoped>\n",
       "    .dataframe tbody tr th:only-of-type {\n",
       "        vertical-align: middle;\n",
       "    }\n",
       "\n",
       "    .dataframe tbody tr th {\n",
       "        vertical-align: top;\n",
       "    }\n",
       "\n",
       "    .dataframe thead th {\n",
       "        text-align: right;\n",
       "    }\n",
       "</style>\n",
       "<table border=\"1\" class=\"dataframe\">\n",
       "  <thead>\n",
       "    <tr style=\"text-align: right;\">\n",
       "      <th></th>\n",
       "      <th>coef</th>\n",
       "      <th>value</th>\n",
       "      <th>SE</th>\n",
       "      <th>t-value</th>\n",
       "      <th>p-value</th>\n",
       "    </tr>\n",
       "  </thead>\n",
       "  <tbody>\n",
       "    <tr>\n",
       "      <th>Intercept</th>\n",
       "      <td>$\\alpha$</td>\n",
       "      <td>0.333684</td>\n",
       "      <td>0.138134</td>\n",
       "      <td>2.415651</td>\n",
       "      <td>1.718983e-02</td>\n",
       "    </tr>\n",
       "    <tr>\n",
       "      <th>TREND</th>\n",
       "      <td>${\\beta}$</td>\n",
       "      <td>0.000146</td>\n",
       "      <td>0.000064</td>\n",
       "      <td>2.287690</td>\n",
       "      <td>2.387765e-02</td>\n",
       "    </tr>\n",
       "    <tr>\n",
       "      <th>DPUSA.shift(1)</th>\n",
       "      <td>$\\gamma_1$</td>\n",
       "      <td>0.607725</td>\n",
       "      <td>0.088556</td>\n",
       "      <td>6.862585</td>\n",
       "      <td>3.011342e-10</td>\n",
       "    </tr>\n",
       "    <tr>\n",
       "      <th>DPUSA.shift(2)</th>\n",
       "      <td>$\\gamma_2$</td>\n",
       "      <td>-0.168412</td>\n",
       "      <td>0.100970</td>\n",
       "      <td>-1.667940</td>\n",
       "      <td>9.789244e-02</td>\n",
       "    </tr>\n",
       "    <tr>\n",
       "      <th>DPUSA.shift(3)</th>\n",
       "      <td>$\\gamma_3$</td>\n",
       "      <td>0.007974</td>\n",
       "      <td>0.091115</td>\n",
       "      <td>0.087518</td>\n",
       "      <td>9.304029e-01</td>\n",
       "    </tr>\n",
       "    <tr>\n",
       "      <th>LOGPUSA.shift(1)</th>\n",
       "      <td>$\\rho$</td>\n",
       "      <td>-0.070985</td>\n",
       "      <td>0.029537</td>\n",
       "      <td>-2.403227</td>\n",
       "      <td>1.775693e-02</td>\n",
       "    </tr>\n",
       "  </tbody>\n",
       "</table>\n",
       "</div>"
      ],
      "text/plain": [
       "                        coef     value        SE   t-value       p-value\n",
       "Intercept           $\\alpha$  0.333684  0.138134  2.415651  1.718983e-02\n",
       "TREND              ${\\beta}$  0.000146  0.000064  2.287690  2.387765e-02\n",
       "DPUSA.shift(1)    $\\gamma_1$  0.607725  0.088556  6.862585  3.011342e-10\n",
       "DPUSA.shift(2)    $\\gamma_2$ -0.168412  0.100970 -1.667940  9.789244e-02\n",
       "DPUSA.shift(3)    $\\gamma_3$  0.007974  0.091115  0.087518  9.304029e-01\n",
       "LOGPUSA.shift(1)      $\\rho$ -0.070985  0.029537 -2.403227  1.775693e-02"
      ]
     },
     "execution_count": 7,
     "metadata": {},
     "output_type": "execute_result"
    }
   ],
   "source": [
    "ADF_US = smf.ols('DPUSA~TREND+DPUSA.shift(1)+DPUSA.shift(2)+DPUSA.shift(3)+LOGPUSA.shift(1)', data=raw_data[train]).fit()\n",
    "summary(ADF_US, names=[r'$\\alpha$', r'${\\beta}$', r'$\\gamma_1$', r'$\\gamma_2$', r'$\\gamma_3$', r'$\\rho$'])"
   ]
  },
  {
   "cell_type": "markdown",
   "metadata": {},
   "source": [
    "And then we apply ADF on the USA's data.\n",
    "\n",
    "The last row above shows that the coefficient of $\\log({CPIUSA}_{t-1})$, its standard error and $t$-value.\n",
    "\n",
    "Critical value of the ADF test with trend included is -3.5, which is less than $t_\\rho = -2.40$, so we canntot reject the $H_0$ that $\\log(CPIUSA)$ is non-stationary."
   ]
  },
  {
   "cell_type": "markdown",
   "metadata": {},
   "source": [
    "**(c)** As the two series of $log(CPI)$ are not cointegrated (you need not check this), we continue by modelling the monthly inflation series $DPEUR = \\Delta log(CPIEUR)$ for the Euro area. Determine the sample autocorrelations and the sample partial autocorrelations of this series to motivate the use of the following AR model: $DPEUR_t = \\alpha + \\beta_1 DPEUR_{t-6} + \\beta_2 DPEUR_{t-12} + \\epsilon_t$. Estimate the parameters of this model (sample Jan 2000 - Dec 2010)."
   ]
  },
  {
   "cell_type": "code",
   "execution_count": 8,
   "metadata": {},
   "outputs": [
    {
     "data": {
      "image/png": "[encoded data removed]",
      "text/plain": [
       "<Figure size 432x288 with 1 Axes>"
      ]
     },
     "metadata": {},
     "output_type": "display_data"
    }
   ],
   "source": [
    "import statsmodels.tsa.stattools as ts\n",
    "autocorr = ts.acf(raw_data[train].DPEUR.dropna())\n",
    "\n",
    "plt.figure()\n",
    "plt.plot(autocorr)\n",
    "plt.xticks(range(0, 42, 6))\n",
    "plt.xlabel('$\\Delta$ months')\n",
    "plt.ylabel('autocorrelation')\n",
    "plt.show()"
   ]
  },
  {
   "cell_type": "markdown",
   "metadata": {},
   "source": [
    "We see that the autocorrelation is higher for multipliers of 6. So, we use $t-6$ and $t-12$ to calculate patial autocorrelation."
   ]
  },
  {
   "cell_type": "code",
   "execution_count": 9,
   "metadata": {},
   "outputs": [
    {
     "data": {
      "text/html": [
       "<div>\n",
       "<style scoped>\n",
       "    .dataframe tbody tr th:only-of-type {\n",
       "        vertical-align: middle;\n",
       "    }\n",
       "\n",
       "    .dataframe tbody tr th {\n",
       "        vertical-align: top;\n",
       "    }\n",
       "\n",
       "    .dataframe thead th {\n",
       "        text-align: right;\n",
       "    }\n",
       "</style>\n",
       "<table border=\"1\" class=\"dataframe\">\n",
       "  <thead>\n",
       "    <tr style=\"text-align: right;\">\n",
       "      <th></th>\n",
       "      <th>coef</th>\n",
       "      <th>value</th>\n",
       "      <th>SE</th>\n",
       "      <th>t-value</th>\n",
       "      <th>p-value</th>\n",
       "    </tr>\n",
       "  </thead>\n",
       "  <tbody>\n",
       "    <tr>\n",
       "      <th>Intercept</th>\n",
       "      <td>$\\alpha$</td>\n",
       "      <td>0.000384</td>\n",
       "      <td>0.000281</td>\n",
       "      <td>1.364996</td>\n",
       "      <td>1.748960e-01</td>\n",
       "    </tr>\n",
       "    <tr>\n",
       "      <th>DPEUR.shift(6)</th>\n",
       "      <td>$\\beta_1$</td>\n",
       "      <td>0.188746</td>\n",
       "      <td>0.077289</td>\n",
       "      <td>2.442088</td>\n",
       "      <td>1.611174e-02</td>\n",
       "    </tr>\n",
       "    <tr>\n",
       "      <th>DPEUR.shift(12)</th>\n",
       "      <td>$\\beta_2$</td>\n",
       "      <td>0.597984</td>\n",
       "      <td>0.083554</td>\n",
       "      <td>7.156821</td>\n",
       "      <td>8.045585e-11</td>\n",
       "    </tr>\n",
       "  </tbody>\n",
       "</table>\n",
       "</div>"
      ],
      "text/plain": [
       "                      coef     value        SE   t-value       p-value\n",
       "Intercept         $\\alpha$  0.000384  0.000281  1.364996  1.748960e-01\n",
       "DPEUR.shift(6)   $\\beta_1$  0.188746  0.077289  2.442088  1.611174e-02\n",
       "DPEUR.shift(12)  $\\beta_2$  0.597984  0.083554  7.156821  8.045585e-11"
      ]
     },
     "execution_count": 9,
     "metadata": {},
     "output_type": "execute_result"
    }
   ],
   "source": [
    "model_pa = smf.ols('DPEUR~DPEUR.shift(6)+DPEUR.shift(12)', data=raw_data[train]).fit()\n",
    "summary(model_pa, names=[r'$\\alpha$', r'$\\beta_1$', r'$\\beta_2$'])"
   ]
  },
  {
   "cell_type": "markdown",
   "metadata": {},
   "source": [
    "**(d)** Extend the AR model of part (c) by adding lagged values of monthly inflation in the USA at lags 1, 6, and 12. Check that the coefficient at lag 6 is not significant, and estimate the ADL model $DPEUR_t = \\alpha + \\beta_1 DPEUR_{t-6} + \\beta_2 DPEUR_{t-12} + \\gamma_1 DPUSA_{t-1} + \\gamma_2 DPUSA_{t-12} + \\varepsilon_t$(sample Jan 2000 - Dec 2010)."
   ]
  },
  {
   "cell_type": "code",
   "execution_count": 10,
   "metadata": {},
   "outputs": [
    {
     "data": {
      "text/html": [
       "<div>\n",
       "<style scoped>\n",
       "    .dataframe tbody tr th:only-of-type {\n",
       "        vertical-align: middle;\n",
       "    }\n",
       "\n",
       "    .dataframe tbody tr th {\n",
       "        vertical-align: top;\n",
       "    }\n",
       "\n",
       "    .dataframe thead th {\n",
       "        text-align: right;\n",
       "    }\n",
       "</style>\n",
       "<table border=\"1\" class=\"dataframe\">\n",
       "  <thead>\n",
       "    <tr style=\"text-align: right;\">\n",
       "      <th></th>\n",
       "      <th>coef</th>\n",
       "      <th>value</th>\n",
       "      <th>SE</th>\n",
       "      <th>t-value</th>\n",
       "      <th>p-value</th>\n",
       "    </tr>\n",
       "  </thead>\n",
       "  <tbody>\n",
       "    <tr>\n",
       "      <th>Intercept</th>\n",
       "      <td>$\\alpha$</td>\n",
       "      <td>0.000441</td>\n",
       "      <td>0.000285</td>\n",
       "      <td>1.544532</td>\n",
       "      <td>1.252556e-01</td>\n",
       "    </tr>\n",
       "    <tr>\n",
       "      <th>DPEUR.shift(6)</th>\n",
       "      <td>$\\beta_1$</td>\n",
       "      <td>0.202989</td>\n",
       "      <td>0.078552</td>\n",
       "      <td>2.584138</td>\n",
       "      <td>1.103673e-02</td>\n",
       "    </tr>\n",
       "    <tr>\n",
       "      <th>DPEUR.shift(12)</th>\n",
       "      <td>$\\beta_2$</td>\n",
       "      <td>0.636746</td>\n",
       "      <td>0.087477</td>\n",
       "      <td>7.279049</td>\n",
       "      <td>4.784004e-11</td>\n",
       "    </tr>\n",
       "    <tr>\n",
       "      <th>DPUSA.shift(1)</th>\n",
       "      <td>$\\gamma_1$</td>\n",
       "      <td>0.226429</td>\n",
       "      <td>0.051129</td>\n",
       "      <td>4.428607</td>\n",
       "      <td>2.201876e-05</td>\n",
       "    </tr>\n",
       "    <tr>\n",
       "      <th>DPUSA.shift(6)</th>\n",
       "      <td>$\\gamma_2$</td>\n",
       "      <td>-0.056056</td>\n",
       "      <td>0.054764</td>\n",
       "      <td>-1.023591</td>\n",
       "      <td>3.082147e-01</td>\n",
       "    </tr>\n",
       "    <tr>\n",
       "      <th>DPUSA.shift(12)</th>\n",
       "      <td>$\\gamma_3$</td>\n",
       "      <td>-0.230042</td>\n",
       "      <td>0.054169</td>\n",
       "      <td>-4.246706</td>\n",
       "      <td>4.473098e-05</td>\n",
       "    </tr>\n",
       "  </tbody>\n",
       "</table>\n",
       "</div>"
      ],
      "text/plain": [
       "                       coef     value        SE   t-value       p-value\n",
       "Intercept          $\\alpha$  0.000441  0.000285  1.544532  1.252556e-01\n",
       "DPEUR.shift(6)    $\\beta_1$  0.202989  0.078552  2.584138  1.103673e-02\n",
       "DPEUR.shift(12)   $\\beta_2$  0.636746  0.087477  7.279049  4.784004e-11\n",
       "DPUSA.shift(1)   $\\gamma_1$  0.226429  0.051129  4.428607  2.201876e-05\n",
       "DPUSA.shift(6)   $\\gamma_2$ -0.056056  0.054764 -1.023591  3.082147e-01\n",
       "DPUSA.shift(12)  $\\gamma_3$ -0.230042  0.054169 -4.246706  4.473098e-05"
      ]
     },
     "execution_count": 10,
     "metadata": {},
     "output_type": "execute_result"
    }
   ],
   "source": [
    "model_AR = smf.ols('DPEUR~DPEUR.shift(6)+DPEUR.shift(12)+DPUSA.shift(1)+DPUSA.shift(6)+DPUSA.shift(12)', data=raw_data[train]).fit()\n",
    "summary(model_AR, names=[r'$\\alpha$', r'$\\beta_1$', r'$\\beta_2$', r'$\\gamma_1$', r'$\\gamma_2$', r'$\\gamma_3$'])"
   ]
  },
  {
   "cell_type": "markdown",
   "metadata": {},
   "source": [
    "The p-value of $\\gamma_2$ suggests that the coefficient for ${DPUSA}_{t-6}$ is not significant."
   ]
  },
  {
   "cell_type": "code",
   "execution_count": 11,
   "metadata": {},
   "outputs": [
    {
     "data": {
      "text/html": [
       "<div>\n",
       "<style scoped>\n",
       "    .dataframe tbody tr th:only-of-type {\n",
       "        vertical-align: middle;\n",
       "    }\n",
       "\n",
       "    .dataframe tbody tr th {\n",
       "        vertical-align: top;\n",
       "    }\n",
       "\n",
       "    .dataframe thead th {\n",
       "        text-align: right;\n",
       "    }\n",
       "</style>\n",
       "<table border=\"1\" class=\"dataframe\">\n",
       "  <thead>\n",
       "    <tr style=\"text-align: right;\">\n",
       "      <th></th>\n",
       "      <th>coef</th>\n",
       "      <th>value</th>\n",
       "      <th>SE</th>\n",
       "      <th>t-value</th>\n",
       "      <th>p-value</th>\n",
       "    </tr>\n",
       "  </thead>\n",
       "  <tbody>\n",
       "    <tr>\n",
       "      <th>Intercept</th>\n",
       "      <td>$\\alpha$</td>\n",
       "      <td>0.000339</td>\n",
       "      <td>0.000268</td>\n",
       "      <td>1.267306</td>\n",
       "      <td>2.076287e-01</td>\n",
       "    </tr>\n",
       "    <tr>\n",
       "      <th>DPEUR.shift(6)</th>\n",
       "      <td>$\\beta_1$</td>\n",
       "      <td>0.168731</td>\n",
       "      <td>0.071080</td>\n",
       "      <td>2.373814</td>\n",
       "      <td>1.927736e-02</td>\n",
       "    </tr>\n",
       "    <tr>\n",
       "      <th>DPEUR.shift(12)</th>\n",
       "      <td>$\\beta_2$</td>\n",
       "      <td>0.655153</td>\n",
       "      <td>0.085626</td>\n",
       "      <td>7.651306</td>\n",
       "      <td>6.930071e-12</td>\n",
       "    </tr>\n",
       "    <tr>\n",
       "      <th>DPUSA.shift(1)</th>\n",
       "      <td>$\\gamma_1$</td>\n",
       "      <td>0.232646</td>\n",
       "      <td>0.050777</td>\n",
       "      <td>4.581704</td>\n",
       "      <td>1.186531e-05</td>\n",
       "    </tr>\n",
       "    <tr>\n",
       "      <th>DPUSA.shift(12)</th>\n",
       "      <td>$\\gamma_3$</td>\n",
       "      <td>-0.226488</td>\n",
       "      <td>0.054069</td>\n",
       "      <td>-4.188837</td>\n",
       "      <td>5.551631e-05</td>\n",
       "    </tr>\n",
       "  </tbody>\n",
       "</table>\n",
       "</div>"
      ],
      "text/plain": [
       "                       coef     value        SE   t-value       p-value\n",
       "Intercept          $\\alpha$  0.000339  0.000268  1.267306  2.076287e-01\n",
       "DPEUR.shift(6)    $\\beta_1$  0.168731  0.071080  2.373814  1.927736e-02\n",
       "DPEUR.shift(12)   $\\beta_2$  0.655153  0.085626  7.651306  6.930071e-12\n",
       "DPUSA.shift(1)   $\\gamma_1$  0.232646  0.050777  4.581704  1.186531e-05\n",
       "DPUSA.shift(12)  $\\gamma_3$ -0.226488  0.054069 -4.188837  5.551631e-05"
      ]
     },
     "execution_count": 11,
     "metadata": {},
     "output_type": "execute_result"
    }
   ],
   "source": [
    "model_ADL = smf.ols('DPEUR~DPEUR.shift(6)+DPEUR.shift(12)+DPUSA.shift(1)+DPUSA.shift(12)', data=raw_data[train]).fit()\n",
    "summary(model_ADL, names=[r'$\\alpha$', r'$\\beta_1$', r'$\\beta_2$', r'$\\gamma_1$', r'$\\gamma_3$'])"
   ]
  },
  {
   "cell_type": "markdown",
   "metadata": {},
   "source": [
    "**(e)** Use the models of parts (c) and (d) to make two series of 12 monthly inflation forecasts for 2011. At each month, you should use the data that are then available, for example, to forecast inflation for September 2011 you can use the data up to and including August 2011. However, do not re-estimate the model and use the coefficients as obtained in parts (c) and (d). For each of the two forecast series, compute the values of the root mean squared error (RMSE), mean absolute error (MAE), and the sum of the forecast errors (SUM). Finally, give your interpretation of the outcomes."
   ]
  },
  {
   "cell_type": "code",
   "execution_count": 20,
   "metadata": {},
   "outputs": [
    {
     "data": {
      "image/png": "[encoded data removed]",
      "text/plain": [
       "<Figure size 432x288 with 1 Axes>"
      ]
     },
     "metadata": {},
     "output_type": "display_data"
    }
   ],
   "source": [
    "import numpy as np\n",
    "import statsmodels.api as sm\n",
    "\n",
    "X = sm.add_constant(np.column_stack([raw_data.DPEUR.shift(6), raw_data.DPEUR.shift(12)]))\n",
    "c_ = model_pa.predict(X[test], transform=False)\n",
    "X = sm.add_constant(np.column_stack([raw_data.DPEUR.shift(6), raw_data.DPEUR.shift(12), raw_data.DPUSA.shift(1), raw_data.DPUSA.shift(12)]))\n",
    "d_ = model_ADL.predict(X[test], transform=False)\n",
    "plt.plot(raw_data[test].DPEUR, label='real DPEUR')\n",
    "plt.plot(c_, label='model c')\n",
    "plt.plot(d_, label='model d')\n",
    "plt.legend()\n",
    "plt.show()"
   ]
  },
  {
   "cell_type": "markdown",
   "metadata": {},
   "source": [
    "In general models appear to perform quite well: we see that they correctly predict the direction of the change, and they both are quite close to the true value."
   ]
  },
  {
   "cell_type": "code",
   "execution_count": 16,
   "metadata": {},
   "outputs": [
    {
     "name": "stdout",
     "output_type": "stream",
     "text": [
      "       model c   model d\n",
      "RMSE  0.002324  0.002111\n",
      "MAE   0.001693  0.001404\n",
      "SUM   0.005065  0.000478\n"
     ]
    }
   ],
   "source": [
    "def rmse(real, predicted):\n",
    "    mse = np.mean((real - predicted) ** 2)\n",
    "    return np.sqrt(mse)\n",
    "def mae(real, predicted):\n",
    "    return np.abs(real - predicted).mean()\n",
    "def sum_fe(real, predicted):\n",
    "    return np.sum(real - predicted)\n",
    "def all_metrics(real, predicted):\n",
    "    return rmse(real, predicted), mae(real, predicted), sum_fe(real, predicted)\n",
    "\n",
    "real = raw_data[test].DPEUR\n",
    "df = pd.DataFrame({'model c': all_metrics(real, c_),\n",
    "                   'model d': all_metrics(real, d_)},\n",
    "                  columns=['model c', 'model d'])\n",
    "df.index = ['RMSE', 'MAE', 'SUM']\n",
    "print(df)"
   ]
  },
  {
   "cell_type": "markdown",
   "metadata": {},
   "source": [
    "Model from (d) performs better in terms of RMSE and MAE"
   ]
  }
 ],
 "metadata": {
  "kernelspec": {
   "display_name": "Python 3",
   "language": "python",
   "name": "python3"
  },
  "language_info": {
   "codemirror_mode": {
    "name": "ipython",
    "version": 3
   },
   "file_extension": ".py",
   "mimetype": "text/x-python",
   "name": "python",
   "nbconvert_exporter": "python",
   "pygments_lexer": "ipython3",
   "version": "3.6.5"
  }
 },
 "nbformat": 4,
 "nbformat_minor": 2
}
